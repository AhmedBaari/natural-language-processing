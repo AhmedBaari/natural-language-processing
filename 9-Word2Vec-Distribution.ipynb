{
  "cells": [
    {
      "cell_type": "code",
      "execution_count": 51,
      "metadata": {},
      "outputs": [],
      "source": [
        "from gensim.models import Word2Vec\n",
        "import nltk\n",
        "from nltk.tokenize import word_tokenize"
      ]
    },
    {
      "cell_type": "code",
      "execution_count": 53,
      "metadata": {},
      "outputs": [],
      "source": [
        "sentences = ['I love programming', 'Python is great', 'I enjoy machine learning',\n",
        "             'TensorFlow is a powerful tool', 'AI is the future']"
      ]
    },
    {
      "cell_type": "code",
      "execution_count": 54,
      "metadata": {},
      "outputs": [
        {
          "data": {
            "text/plain": [
              "[['i', 'love', 'programming'],\n",
              " ['python', 'is', 'great'],\n",
              " ['i', 'enjoy', 'machine', 'learning'],\n",
              " ['tensorflow', 'is', 'a', 'powerful', 'tool'],\n",
              " ['ai', 'is', 'the', 'future']]"
            ]
          },
          "execution_count": 54,
          "metadata": {},
          "output_type": "execute_result"
        }
      ],
      "source": [
        "tokenized_sentences = [word_tokenize(sentence.lower()) for sentence in sentences]\n",
        "\n",
        "tokenized_sentences"
      ]
    },
    {
      "cell_type": "code",
      "execution_count": 55,
      "metadata": {},
      "outputs": [
        {
          "data": {
            "text/plain": [
              "array([-0.00950012,  0.00956222, -0.00777076, -0.00264551, -0.00490641,\n",
              "       -0.0049667 ], dtype=float32)"
            ]
          },
          "execution_count": 55,
          "metadata": {},
          "output_type": "execute_result"
        }
      ],
      "source": [
        "model = Word2Vec(\n",
        "    sentences=tokenized_sentences, \n",
        "    vector_size=100, \n",
        "    window=5, \n",
        "    min_count=1, \n",
        "    )\n",
        "\n",
        "model.wv['python'][:6]"
      ]
    },
    {
      "cell_type": "code",
      "execution_count": 56,
      "metadata": {},
      "outputs": [
        {
          "data": {
            "text/plain": [
              "[('ai', 0.2529047131538391),\n",
              " ('i', 0.13725271821022034),\n",
              " ('tool', 0.0441073514521122),\n",
              " ('programming', 0.027008363977074623),\n",
              " ('powerful', 0.012811630964279175)]"
            ]
          },
          "execution_count": 56,
          "metadata": {},
          "output_type": "execute_result"
        }
      ],
      "source": [
        "similar_words = model.wv.most_similar(\"python\", topn=5)\n",
        "similar_words"
      ]
    }
  ],
  "metadata": {
    "accelerator": "GPU",
    "colab": {
      "gpuType": "T4",
      "provenance": []
    },
    "kernelspec": {
      "display_name": "Python 3",
      "name": "python3"
    },
    "language_info": {
      "codemirror_mode": {
        "name": "ipython",
        "version": 3
      },
      "file_extension": ".py",
      "mimetype": "text/x-python",
      "name": "python",
      "nbconvert_exporter": "python",
      "pygments_lexer": "ipython3",
      "version": "3.12.7"
    }
  },
  "nbformat": 4,
  "nbformat_minor": 0
}
